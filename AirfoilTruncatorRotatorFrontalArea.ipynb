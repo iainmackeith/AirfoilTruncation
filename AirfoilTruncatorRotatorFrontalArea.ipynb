{
 "cells": [
  {
   "cell_type": "code",
   "execution_count": 2,
   "metadata": {},
   "outputs": [],
   "source": [
    "import numpy as np\n",
    "import matplotlib.pyplot as plt\n",
    "import math\n"
   ]
  },
  {
   "cell_type": "code",
   "execution_count": 3,
   "metadata": {},
   "outputs": [],
   "source": [
    "def truncfunc(finepoints, trunc,chord):\n",
    "    lim = (1-trunc)*chord\n",
    "    finepointstruncpos = finepoints[(finepoints[:,0]<=lim),0:2]\n",
    "    finepointstruncneg = finepoints[(finepoints[:,2]<=lim),2:4] \n",
    "    finepointstrunc = np.concatenate((finepointstruncpos,finepointstruncneg),axis=1)   \n",
    "    return(finepointstrunc)\n",
    "\n",
    "def rotate(finepoints, deg):\n",
    "    rad = deg*np.pi/180\n",
    "    xposrot = finepoints[:,0]*math.cos(rad) + finepoints[:,1]*math.sin(rad)\n",
    "    yposrot = -finepoints[:,0]*math.sin(rad) + finepoints[:,1]*math.cos(rad)\n",
    "    xnegrot = finepoints[:,2]*math.cos(rad) + finepoints[:,3]*math.sin(rad)\n",
    "    ynegrot = -finepoints[:,2]*math.sin(rad) + finepoints[:,3]*math.cos(rad)\n",
    "    finepointsangled = np.concatenate((xposrot[:,np.newaxis],yposrot[:,np.newaxis],xnegrot[:,np.newaxis],ynegrot[:,np.newaxis]),axis=1)\n",
    "    return(finepointsangled)"
   ]
  },
  {
   "cell_type": "code",
   "execution_count": 69,
   "metadata": {},
   "outputs": [
    {
     "data": {
      "text/plain": [
       "(0.0, 8.0)"
      ]
     },
     "execution_count": 69,
     "metadata": {},
     "output_type": "execute_result"
    },
    {
     "data": {
      "image/png": "[encoded data removed]",
      "text/plain": [
       "<Figure size 640x480 with 1 Axes>"
      ]
     },
     "metadata": {},
     "output_type": "display_data"
    }
   ],
   "source": [
    "x = [1, 2, 3]\n",
    "y = [3, 5, 6]\n",
    "x = np.array(x)\n",
    "y = np.array(y)\n",
    "plt.plot(x,y)\n",
    "\n",
    "radians = 15*np.pi/180\n",
    "xx = x * math.cos(radians) + y * math.sin(radians)\n",
    "yy = -x * math.sin(radians) + y * math.cos(radians)\n",
    "\n",
    "plt.plot(xx,yy)\n",
    "plt.xlim(0,8)\n",
    "plt.ylim(0,8)"
   ]
  },
  {
   "cell_type": "code",
   "execution_count": 8,
   "metadata": {},
   "outputs": [],
   "source": [
    "Chord = 22.86\n",
    "xpos = [1*Chord,.95036*Chord,.90064*Chord,.80116*Chord,.70162*Chord,.60202*Chord,.50235*Chord,.40256*Chord,.30265*Chord,.25262*Chord,.20253*Chord,.15001*Chord,.09423*Chord,.06601*Chord,.03853*Chord,.01331*Chord,.00277*Chord,0]\n",
    "ypos = [0*Chord,.01724*Chord,.03115*Chord,.05687*Chord,.07988*Chord,.10008*Chord,.1169*Chord,.12928*Chord,.13546*Chord,.13535*Chord,.13237*Chord,.12528*Chord,.11049*Chord,.09844*Chord,.08172*Chord,.05764*Chord,.04017*Chord,0]\n",
    "xneg = [0,.02223*Chord,.03669*Chord,.06147*Chord,.08399*Chord,.10577*Chord,.14999*Chord,.19747*Chord,.24738*Chord,.29735*Chord,.39744*Chord,.49766*Chord,.59798*Chord,.69838*Chord,.79884*Chord,.89936*Chord,.94964*Chord,1*Chord]\n",
    "yneg = [0,-.03303*Chord,-.04432*Chord,-.05862*Chord,-.0686*Chord,-.07647*Chord,-.08852*Chord,-.09703*Chord,-.10223*Chord,-.10454*Chord,-.10278*Chord,-.09482*Chord,-.08242*Chord,-.06664*Chord,-.04803*Chord,-.02673*Chord,-.01504*Chord,0]\n",
    "xpos = np.flip(xpos)\n",
    "ypos = np.flip(ypos)\n",
    "\n",
    "xstep = .001\n",
    "xfineneg = np.arange(0,Chord+xstep,xstep)\n",
    "xfinepos = np.flip(xfineneg)\n",
    "yfinepos = np.flip(np.interp(xfineneg,xpos,ypos))\n",
    "yfineneg = np.interp(xfineneg,xneg,yneg)\n",
    "\n",
    "finepoints = np.concatenate((xfinepos[:,np.newaxis],yfinepos[:,np.newaxis],xfineneg[:,np.newaxis],yfineneg[:,np.newaxis]),axis =1)\n",
    "\n",
    "trunc = [0,.05,.2,.5]\n",
    "angle = [0,5,10,20]\n",
    "mainarr = np.zeros((np.size(trunc)*np.size(angle),4))\n",
    "for t in range(np.size(trunc)):\n",
    "    for a in range(np.size(angle)):\n",
    "        trunced= truncfunc(finepoints,trunc[t],Chord)\n",
    "        rot = rotate(trunced, angle[a])\n",
    "        maxxpos = max(rot[:,0])\n",
    "        maxxneg = max(rot[:,2])\n",
    "        maxx = max([maxxpos,maxxneg])\n",
    "        minxpos = min(rot[:,0])\n",
    "        minxneg = min(rot[:,2])\n",
    "        minx = min([minxpos,minxneg])        \n",
    "        tarea = maxx-minx\n",
    "        maxy = max(rot[:,1])\n",
    "        miny = min(rot[:,3])\n",
    "        farea = maxy-miny\n",
    "        mainarr[t*4+a,0]=trunc[t]\n",
    "        mainarr[t*4+a,1]=angle[a]\n",
    "        mainarr[t*4+a,2]=farea\n",
    "        mainarr[t*4+a,3]=tarea\n",
    "\n"
   ]
  },
  {
   "cell_type": "code",
   "execution_count": 9,
   "metadata": {},
   "outputs": [
    {
     "name": "stdout",
     "output_type": "stream",
     "text": [
      "[[ 0.          0.          5.48638855 22.86      ]\n",
      " [ 0.          5.          5.76180286 22.7730108 ]\n",
      " [ 0.         10.          6.49742619 22.51270523]\n",
      " [ 0.         20.          9.45530678 21.48137331]\n",
      " [ 0.05        0.          5.48638855 21.717     ]\n",
      " [ 0.05        5.          5.76180286 21.66890956]\n",
      " [ 0.05       10.          6.49742619 21.45590563]\n",
      " [ 0.05       20.          9.38514807 20.54288443]\n",
      " [ 0.2         0.          5.48638855 18.288     ]\n",
      " [ 0.2         5.          5.76180286 18.33224956]\n",
      " [ 0.2        10.          6.49742619 18.23697963]\n",
      " [ 0.2        20.          8.91806089 17.63183787]\n",
      " [ 0.5         0.          5.48638855 11.43      ]\n",
      " [ 0.5         5.          5.76180286 11.61999552]\n",
      " [ 0.5        10.          6.33783435 11.72155585]\n",
      " [ 0.5        20.          7.57666721 11.65695816]]\n"
     ]
    }
   ],
   "source": [
    "print(mainarr)"
   ]
  },
  {
   "cell_type": "code",
   "execution_count": 11,
   "metadata": {},
   "outputs": [],
   "source": [
    "import pandas as pd\n",
    "df = pd.DataFrame(mainarr)\n",
    "df.to_csv('areas.csv')"
   ]
  }
 ],
 "metadata": {
  "kernelspec": {
   "display_name": "Python 3",
   "language": "python",
   "name": "python3"
  },
  "language_info": {
   "codemirror_mode": {
    "name": "ipython",
    "version": 3
   },
   "file_extension": ".py",
   "mimetype": "text/x-python",
   "name": "python",
   "nbconvert_exporter": "python",
   "pygments_lexer": "ipython3",
   "version": "3.10.11"
  }
 },
 "nbformat": 4,
 "nbformat_minor": 2
}
